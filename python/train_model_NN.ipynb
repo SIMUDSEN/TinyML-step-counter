{
 "cells": [
  {
   "cell_type": "code",
   "execution_count": null,
   "metadata": {},
   "outputs": [],
   "source": [
    "# Important constants\n",
    "data_directory = '../tcp_server/out'\n",
    "model_output_path = '../src/step_counter_model.h'\n",
    "sample_rate_hz = 100 \n",
    "window_size_seconds = 0.5\n",
    "window_size_samples = (int)(sample_rate_hz * window_size_seconds)\n",
    "step_size_samples = window_size_samples // 2\n",
    "\n",
    "hidden_layer_size = 12"
   ]
  },
  {
   "cell_type": "code",
   "execution_count": 2,
   "metadata": {},
   "outputs": [
    {
     "name": "stdout",
     "output_type": "stream",
     "text": [
      "Read all files\n",
      "Total number of data points: 23475\n",
      "Total number of steps: 362\n"
     ]
    }
   ],
   "source": [
    "import pandas as pd\n",
    "import os\n",
    "\n",
    "# Total number of data points and steps\n",
    "length = 0\n",
    "n_steps = 0\n",
    "\n",
    "data_frames = []\n",
    "\n",
    "for file in os.listdir(data_directory):\n",
    "    if file.startswith('walk'):\n",
    "        # Read file and add to list\n",
    "        df = pd.read_csv(os.path.join(data_directory, file))\n",
    "        data_frames.append(df)\n",
    "\n",
    "        # Add step count and length to total\n",
    "        n_steps += df['step'].sum()\n",
    "        length += len(df)\n",
    "\n",
    "print(\"Read all files\")\n",
    "print(\"Total number of data points:\", length)\n",
    "print(\"Total number of steps:\", n_steps)"
   ]
  },
  {
   "cell_type": "code",
   "execution_count": 3,
   "metadata": {},
   "outputs": [
    {
     "name": "stdout",
     "output_type": "stream",
     "text": [
      "Input shape: (931, 50, 3)\n",
      "Output shape: (931, 1)\n"
     ]
    }
   ],
   "source": [
    "############################################################################\n",
    "# Split dataset\n",
    "############################################################################\n",
    "import numpy as np\n",
    "\n",
    "# Input will be a 3x50 array of accelerometer data\n",
    "# Output will be a 1 if step, 0 if not step\n",
    "# Data will be split into windows of 50 samples, with a step size of 25 samples\n",
    "\n",
    "inputData = []\n",
    "outputData = []\n",
    "\n",
    "for df in data_frames:\n",
    "    # Remove final samples which don't fit into window\n",
    "    # df = df[:len(df)-(len(df) % step_size_samples)]\n",
    "    \n",
    "    df = df[0:len(df)-(len(df) % step_size_samples)]\n",
    "\n",
    "    # Calculate number of windows\n",
    "    numberOfWindows = int((len(df)-window_size_samples) / step_size_samples) + 1\n",
    "\n",
    "    for windowNumber in range(numberOfWindows):\n",
    "        # Get start and end index of window\n",
    "        startIndex = windowNumber * step_size_samples\n",
    "        endIndex = startIndex + window_size_samples\n",
    "\n",
    "        # Input is accelerometer data in window\n",
    "        inputData.append(df.iloc[startIndex:endIndex, 1:4].values)\n",
    "\n",
    "        # Output is step count in window\n",
    "        outputData.append([df.iloc[startIndex:endIndex, 4].sum()])\n",
    "\n",
    "# Convert to numpy arrays\n",
    "inputData = np.array(inputData)\n",
    "outputData = np.array(outputData)\n",
    "\n",
    "print(\"Input shape: \" + str(inputData.shape))\n",
    "print(\"Output shape: \" + str(outputData.shape))"
   ]
  },
  {
   "cell_type": "code",
   "execution_count": 13,
   "metadata": {},
   "outputs": [
    {
     "name": "stdout",
     "output_type": "stream",
     "text": [
      "Epoch 1/20\n",
      "\u001b[1m931/931\u001b[0m \u001b[32m━━━━━━━━━━━━━━━━━━━━\u001b[0m\u001b[37m\u001b[0m \u001b[1m4s\u001b[0m 3ms/step - accuracy: 0.6116 - loss: 0.3884\n",
      "Epoch 2/20\n",
      "\u001b[1m931/931\u001b[0m \u001b[32m━━━━━━━━━━━━━━━━━━━━\u001b[0m\u001b[37m\u001b[0m \u001b[1m3s\u001b[0m 3ms/step - accuracy: 0.6051 - loss: 0.3949\n",
      "Epoch 3/20\n",
      "\u001b[1m931/931\u001b[0m \u001b[32m━━━━━━━━━━━━━━━━━━━━\u001b[0m\u001b[37m\u001b[0m \u001b[1m3s\u001b[0m 3ms/step - accuracy: 0.6277 - loss: 0.3723\n",
      "Epoch 4/20\n",
      "\u001b[1m931/931\u001b[0m \u001b[32m━━━━━━━━━━━━━━━━━━━━\u001b[0m\u001b[37m\u001b[0m \u001b[1m3s\u001b[0m 3ms/step - accuracy: 0.6076 - loss: 0.3924\n",
      "Epoch 5/20\n",
      "\u001b[1m931/931\u001b[0m \u001b[32m━━━━━━━━━━━━━━━━━━━━\u001b[0m\u001b[37m\u001b[0m \u001b[1m3s\u001b[0m 3ms/step - accuracy: 0.6213 - loss: 0.3787\n",
      "Epoch 6/20\n",
      "\u001b[1m931/931\u001b[0m \u001b[32m━━━━━━━━━━━━━━━━━━━━\u001b[0m\u001b[37m\u001b[0m \u001b[1m3s\u001b[0m 3ms/step - accuracy: 0.5681 - loss: 0.4319\n",
      "Epoch 7/20\n",
      "\u001b[1m931/931\u001b[0m \u001b[32m━━━━━━━━━━━━━━━━━━━━\u001b[0m\u001b[37m\u001b[0m \u001b[1m3s\u001b[0m 3ms/step - accuracy: 0.5920 - loss: 0.4080\n",
      "Epoch 8/20\n",
      "\u001b[1m931/931\u001b[0m \u001b[32m━━━━━━━━━━━━━━━━━━━━\u001b[0m\u001b[37m\u001b[0m \u001b[1m3s\u001b[0m 3ms/step - accuracy: 0.6243 - loss: 0.3757\n",
      "Epoch 9/20\n",
      "\u001b[1m931/931\u001b[0m \u001b[32m━━━━━━━━━━━━━━━━━━━━\u001b[0m\u001b[37m\u001b[0m \u001b[1m3s\u001b[0m 3ms/step - accuracy: 0.5802 - loss: 0.4198\n",
      "Epoch 10/20\n",
      "\u001b[1m931/931\u001b[0m \u001b[32m━━━━━━━━━━━━━━━━━━━━\u001b[0m\u001b[37m\u001b[0m \u001b[1m3s\u001b[0m 4ms/step - accuracy: 0.5924 - loss: 0.4076\n",
      "Epoch 11/20\n",
      "\u001b[1m931/931\u001b[0m \u001b[32m━━━━━━━━━━━━━━━━━━━━\u001b[0m\u001b[37m\u001b[0m \u001b[1m3s\u001b[0m 3ms/step - accuracy: 0.6199 - loss: 0.3801\n",
      "Epoch 12/20\n",
      "\u001b[1m931/931\u001b[0m \u001b[32m━━━━━━━━━━━━━━━━━━━━\u001b[0m\u001b[37m\u001b[0m \u001b[1m3s\u001b[0m 4ms/step - accuracy: 0.5788 - loss: 0.4212\n",
      "Epoch 13/20\n",
      "\u001b[1m931/931\u001b[0m \u001b[32m━━━━━━━━━━━━━━━━━━━━\u001b[0m\u001b[37m\u001b[0m \u001b[1m3s\u001b[0m 3ms/step - accuracy: 0.6224 - loss: 0.3776\n",
      "Epoch 14/20\n",
      "\u001b[1m931/931\u001b[0m \u001b[32m━━━━━━━━━━━━━━━━━━━━\u001b[0m\u001b[37m\u001b[0m \u001b[1m3s\u001b[0m 3ms/step - accuracy: 0.5984 - loss: 0.4016\n",
      "Epoch 15/20\n",
      "\u001b[1m931/931\u001b[0m \u001b[32m━━━━━━━━━━━━━━━━━━━━\u001b[0m\u001b[37m\u001b[0m \u001b[1m3s\u001b[0m 3ms/step - accuracy: 0.5942 - loss: 0.4058\n",
      "Epoch 16/20\n",
      "\u001b[1m931/931\u001b[0m \u001b[32m━━━━━━━━━━━━━━━━━━━━\u001b[0m\u001b[37m\u001b[0m \u001b[1m3s\u001b[0m 3ms/step - accuracy: 0.6058 - loss: 0.3942\n",
      "Epoch 17/20\n",
      "\u001b[1m931/931\u001b[0m \u001b[32m━━━━━━━━━━━━━━━━━━━━\u001b[0m\u001b[37m\u001b[0m \u001b[1m3s\u001b[0m 3ms/step - accuracy: 0.5920 - loss: 0.4080\n",
      "Epoch 18/20\n",
      "\u001b[1m931/931\u001b[0m \u001b[32m━━━━━━━━━━━━━━━━━━━━\u001b[0m\u001b[37m\u001b[0m \u001b[1m3s\u001b[0m 3ms/step - accuracy: 0.6005 - loss: 0.3995\n",
      "Epoch 19/20\n",
      "\u001b[1m931/931\u001b[0m \u001b[32m━━━━━━━━━━━━━━━━━━━━\u001b[0m\u001b[37m\u001b[0m \u001b[1m3s\u001b[0m 3ms/step - accuracy: 0.6231 - loss: 0.3769\n",
      "Epoch 20/20\n",
      "\u001b[1m931/931\u001b[0m \u001b[32m━━━━━━━━━━━━━━━━━━━━\u001b[0m\u001b[37m\u001b[0m \u001b[1m3s\u001b[0m 3ms/step - accuracy: 0.5986 - loss: 0.4014\n"
     ]
    },
    {
     "data": {
      "text/plain": [
       "<keras.src.callbacks.history.History at 0x175bcf2e490>"
      ]
     },
     "execution_count": 13,
     "metadata": {},
     "output_type": "execute_result"
    }
   ],
   "source": [
    "# Train model\n",
    "from tensorflow import keras\n",
    "from keras import layers\n",
    "\n",
    "# Initialize model\n",
    "model = keras.Sequential()\n",
    "# Convolutional layer with 3 filters, each of size 3, and a stride of 1\n",
    "model.add(layers.Conv1D(filters = 64, kernel_size=(3), activation='relu', input_shape=(window_size_samples, 3)))\n",
    "# Max pooling layer with pool size of 2x2 and stride of 2\n",
    "model.add(layers.MaxPooling1D(pool_size=2, strides=2))\n",
    "# Convolutional layer with 3 filters, each of size 3, and a stride of 1\n",
    "model.add(layers.Conv1D(filters = 64, kernel_size=(3), activation='relu', input_shape=(window_size_samples, 3)))\n",
    "# Max pooling layer with pool size of 2x2 and stride of 2\n",
    "model.add(layers.MaxPooling1D(pool_size=2, strides=2))\n",
    "\n",
    "# DNN\n",
    "model.add(layers.Flatten())\n",
    "model.add(layers.Dense(hidden_layer_size, activation='relu'))\n",
    "model.add(layers.Dense(1, activation='sigmoid'))\n",
    "    \n",
    "\n",
    "# Compile model\n",
    "model.compile(\n",
    "    optimizer='adam',\n",
    "    loss='mse',\n",
    "    metrics=['accuracy']\n",
    ")\n",
    "\n",
    "# Train model\n",
    "model.fit(inputData, outputData, epochs=20, batch_size=1)\n"
   ]
  }
 ],
 "metadata": {
  "kernelspec": {
   "display_name": "Python 3",
   "language": "python",
   "name": "python3"
  },
  "language_info": {
   "codemirror_mode": {
    "name": "ipython",
    "version": 3
   },
   "file_extension": ".py",
   "mimetype": "text/x-python",
   "name": "python",
   "nbconvert_exporter": "python",
   "pygments_lexer": "ipython3",
   "version": "3.11.2"
  }
 },
 "nbformat": 4,
 "nbformat_minor": 2
}
